{
 "cells": [
  {
   "cell_type": "code",
   "execution_count": 1,
   "id": "b5658fe5-5228-43b3-998e-cc7034f0c77a",
   "metadata": {},
   "outputs": [],
   "source": [
    "import torch\n",
    "import torch.nn.functional as F\n",
    "import matplotlib.pyplot as plt\n",
    "%matplotlib inline"
   ]
  },
  {
   "cell_type": "code",
   "execution_count": 3,
   "id": "41fbf89f-84e9-4825-9808-3432fae20fd0",
   "metadata": {},
   "outputs": [
    {
     "data": {
      "text/plain": [
       "['emma', 'olivia', 'ava', 'isabella', 'sophia', 'charlotte', 'mia', 'amelia']"
      ]
     },
     "execution_count": 3,
     "metadata": {},
     "output_type": "execute_result"
    }
   ],
   "source": [
    "# read in all the words\n",
    "words = open('names.txt', 'r').read().splitlines()\n",
    "words[:8]"
   ]
  },
  {
   "cell_type": "code",
   "execution_count": 4,
   "id": "eac1d2d8-a6a4-4882-866e-da139066dbe9",
   "metadata": {},
   "outputs": [
    {
     "data": {
      "text/plain": [
       "32033"
      ]
     },
     "execution_count": 4,
     "metadata": {},
     "output_type": "execute_result"
    }
   ],
   "source": [
    "len(words)"
   ]
  },
  {
   "cell_type": "code",
   "execution_count": 6,
   "id": "8d424780-e2ad-46fe-a238-ecb1193b0363",
   "metadata": {},
   "outputs": [
    {
     "name": "stdout",
     "output_type": "stream",
     "text": [
      "{1: 'a', 2: 'b', 3: 'c', 4: 'd', 5: 'e', 6: 'f', 7: 'g', 8: 'h', 9: 'i', 10: 'j', 11: 'k', 12: 'l', 13: 'm', 14: 'n', 15: 'o', 16: 'p', 17: 'q', 18: 'r', 19: 's', 20: 't', 21: 'u', 22: 'v', 23: 'w', 24: 'x', 25: 'y', 26: 'z', 0: '.'}\n"
     ]
    }
   ],
   "source": [
    "chars = sorted(list(set(''.join(words))))\n",
    "stoi = {s:i+1 for i,s in enumerate(chars)}\n",
    "stoi['.'] = 0\n",
    "itos = {i:s for s,i in stoi.items()}\n",
    "print(itos)"
   ]
  },
  {
   "cell_type": "code",
   "execution_count": 22,
   "id": "43db1ae7-861c-4252-924c-974556e13a8c",
   "metadata": {},
   "outputs": [
    {
     "name": "stdout",
     "output_type": "stream",
     "text": [
      "emma\n",
      "... ----> e\n",
      "..e ----> m\n",
      ".em ----> m\n",
      "emm ----> a\n",
      "mma ----> .\n",
      "olivia\n",
      "... ----> o\n",
      "..o ----> l\n",
      ".ol ----> i\n",
      "oli ----> v\n",
      "liv ----> i\n",
      "ivi ----> a\n",
      "via ----> .\n",
      "ava\n",
      "... ----> a\n",
      "..a ----> v\n",
      ".av ----> a\n",
      "ava ----> .\n",
      "isabella\n",
      "... ----> i\n",
      "..i ----> s\n",
      ".is ----> a\n",
      "isa ----> b\n",
      "sab ----> e\n",
      "abe ----> l\n",
      "bel ----> l\n",
      "ell ----> a\n",
      "lla ----> .\n",
      "sophia\n",
      "... ----> s\n",
      "..s ----> o\n",
      ".so ----> p\n",
      "sop ----> h\n",
      "oph ----> i\n",
      "phi ----> a\n",
      "hia ----> .\n"
     ]
    }
   ],
   "source": [
    "\n",
    "block_size = 3 # context length\n",
    "X, Y = [], []\n",
    "for w in words[:5]:\n",
    "    \n",
    "    print(w)\n",
    "    context = [0] * block_size\n",
    "    for ch in w + '.':\n",
    "        ix = stoi[ch]\n",
    "        X.append(context)\n",
    "        Y.append(ix)\n",
    "        print(''.join(itos[i] for i in context), '---->', itos[ix])\n",
    "        context = context[1:] + [ix]\n",
    "\n",
    "X = torch.tensor(X)\n",
    "Y = torch.tensor(Y)"
   ]
  },
  {
   "cell_type": "code",
   "execution_count": 103,
   "id": "a0520b21-16cd-4514-9611-cd014ce00c6a",
   "metadata": {},
   "outputs": [
    {
     "data": {
      "text/plain": [
       "tensor(14.5032)"
      ]
     },
     "execution_count": 103,
     "metadata": {},
     "output_type": "execute_result"
    }
   ],
   "source": [
    "emb = C[X] # Char embedding lookup-table\n",
    "h = torch.tanh(emb.view(-1, 6) @ W1 + b1) # (32, 100)\n",
    "logits = h @ W2 + b2 # Calculate logits of model\n",
    "# softmax into negative log loss\n",
    "# counts = logits.exp()\n",
    "# prob = counts / counts.sum(1, keepdims=True)\n",
    "# loss = -prob[torch.arange(32), Y].log().mean() (This code is equivalent to the Pytorch below)\n",
    "loss = F.cross_entropy(logits, Y)\n",
    "loss"
   ]
  },
  {
   "cell_type": "code",
   "execution_count": 23,
   "id": "8a6c210b-a9db-44b1-b760-9cf3cee76376",
   "metadata": {},
   "outputs": [
    {
     "data": {
      "text/plain": [
       "(torch.Size([32, 3]), torch.int64, torch.Size([32]), torch.int64)"
      ]
     },
     "execution_count": 23,
     "metadata": {},
     "output_type": "execute_result"
    }
   ],
   "source": [
    "X.shape, X.dtype, Y.shape, Y.dtype"
   ]
  },
  {
   "cell_type": "code",
   "execution_count": 73,
   "id": "05d98782-5dc7-4af1-b191-2d1c9dbe7491",
   "metadata": {},
   "outputs": [
    {
     "data": {
      "text/plain": [
       "torch.Size([32, 6])"
      ]
     },
     "execution_count": 73,
     "metadata": {},
     "output_type": "execute_result"
    }
   ],
   "source": [
    "torch.cat(torch.unbind(emb, 1), 1).shape # Each embedding has a rowsize of 2, so the shape is 6 (2 * 3)\n",
    "# equivalent to emb.view(32, 6) because of the way that tensors are processed by pytorch"
   ]
  },
  {
   "cell_type": "code",
   "execution_count": 105,
   "id": "9fb4c03d-3914-49de-838a-2cb3b8c96b2f",
   "metadata": {},
   "outputs": [],
   "source": [
    "C = torch.randn((27, 2)) # Embedding lookup table\n",
    "# input layer\n",
    "W1 = torch.randn((6, 100)) # inputs calculated by 3 * 2, refer to emb shape\n",
    "b1 = torch.randn(100) \n",
    "# Output layer\n",
    "W2 = torch.randn((100, 27))\n",
    "b2 = torch.randn(27)\n",
    "# Parameters\n",
    "parameters = [C, W1, b1, W2, b2]"
   ]
  },
  {
   "cell_type": "code",
   "execution_count": 106,
   "id": "757e3720-1d20-4706-a0d3-4d5fa7b70d74",
   "metadata": {},
   "outputs": [],
   "source": [
    "for p in parameters:\n",
    "    p.requires_grad = True"
   ]
  },
  {
   "cell_type": "code",
   "execution_count": 109,
   "id": "24934c52-bb71-4ece-91d0-1db187cfd6b6",
   "metadata": {},
   "outputs": [
    {
     "name": "stdout",
     "output_type": "stream",
     "text": [
      "2.5148651599884033\n",
      "2.347205877304077\n",
      "2.2006313800811768\n",
      "2.0504367351531982\n",
      "1.9096455574035645\n",
      "1.763210654258728\n",
      "1.6172363758087158\n",
      "1.4761760234832764\n",
      "1.3571674823760986\n",
      "1.2705419063568115\n",
      "1.217061161994934\n",
      "1.2350564002990723\n",
      "1.3521555662155151\n",
      "1.9583319425582886\n",
      "1.0929925441741943\n",
      "1.0064247846603394\n",
      "0.9658892154693604\n",
      "0.9349462985992432\n",
      "0.9097537994384766\n",
      "0.8903946280479431\n",
      "0.8822121620178223\n",
      "0.9261757135391235\n",
      "1.0773528814315796\n",
      "1.706147313117981\n",
      "0.8609830737113953\n",
      "0.805966317653656\n",
      "0.7831040024757385\n",
      "0.7689955830574036\n",
      "0.7629497051239014\n",
      "0.766759991645813\n",
      "0.8238166570663452\n",
      "0.905944287776947\n",
      "1.3264614343643188\n",
      "0.7563217282295227\n",
      "0.7114620208740234\n",
      "0.6958705186843872\n",
      "0.6874038577079773\n",
      "0.6812167763710022\n",
      "0.684677004814148\n",
      "0.6891300678253174\n",
      "0.737021267414093\n",
      "0.7573749423027039\n",
      "0.9574797749519348\n",
      "0.7307043075561523\n",
      "0.7565016746520996\n",
      "0.6808151602745056\n",
      "0.6782613396644592\n",
      "0.6427730917930603\n",
      "0.6340352892875671\n",
      "0.6155622005462646\n",
      "0.6088401675224304\n",
      "0.5975707769393921\n",
      "0.5932472944259644\n",
      "0.585345983505249\n",
      "0.5832959413528442\n",
      "0.5773290395736694\n",
      "0.5781557559967041\n",
      "0.5734246373176575\n",
      "0.5784560441970825\n",
      "0.5736910700798035\n",
      "0.5840281248092651\n",
      "0.5755355954170227\n",
      "0.5884201526641846\n",
      "0.5711895823478699\n",
      "0.5775327682495117\n",
      "0.5550397038459778\n",
      "0.5505008101463318\n",
      "0.532660722732544\n",
      "0.5240370631217957\n",
      "0.5132824778556824\n",
      "0.5061676502227783\n",
      "0.4997168481349945\n",
      "0.4944387376308441\n",
      "0.48998159170150757\n",
      "0.48575329780578613\n",
      "0.48228251934051514\n",
      "0.47864314913749695\n",
      "0.47579675912857056\n",
      "0.4725252091884613\n",
      "0.4701973795890808\n",
      "0.4671633839607239\n",
      "0.4653507173061371\n",
      "0.46243080496788025\n",
      "0.46115922927856445\n",
      "0.4581879675388336\n",
      "0.4574534296989441\n",
      "0.45420897006988525\n",
      "0.4539208710193634\n",
      "0.45017293095588684\n",
      "0.4501379132270813\n",
      "0.4457632899284363\n",
      "0.44573974609375\n",
      "0.4408324360847473\n",
      "0.4406292140483856\n",
      "0.4354787766933441\n",
      "0.4350090026855469\n",
      "0.42995214462280273\n",
      "0.4292129576206207\n",
      "0.4244878888130188\n",
      "0.42351216077804565\n"
     ]
    }
   ],
   "source": [
    "steps = 1000\n",
    "learning_rate = 0.1\n",
    "\n",
    "for i in range(steps):\n",
    "    # Forward Pass\n",
    "    emb = C[X] # Char embedding lookup-table\n",
    "    h = torch.tanh(emb.view(-1, 6) @ W1 + b1) # (32, 100)\n",
    "    logits = h @ W2 + b2 # Calculate logits of model\n",
    "    loss = F.cross_entropy(logits, Y)\n",
    "    print(loss.item())\n",
    "    # Backward pass\n",
    "    for p in parameters:\n",
    "        p.grad = None\n",
    "    loss.backward()\n",
    "    for p in parameters:\n",
    "        p.data += -learning_rate * p.grad"
   ]
  },
  {
   "cell_type": "code",
   "execution_count": null,
   "id": "f0f4eef4-826b-415a-84af-8632e1d19309",
   "metadata": {},
   "outputs": [],
   "source": []
  }
 ],
 "metadata": {
  "kernelspec": {
   "display_name": "micrograd",
   "language": "python",
   "name": "micrograd"
  },
  "language_info": {
   "codemirror_mode": {
    "name": "ipython",
    "version": 3
   },
   "file_extension": ".py",
   "mimetype": "text/x-python",
   "name": "python",
   "nbconvert_exporter": "python",
   "pygments_lexer": "ipython3",
   "version": "3.11.5"
  }
 },
 "nbformat": 4,
 "nbformat_minor": 5
}
